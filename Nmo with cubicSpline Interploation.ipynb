{
  "nbformat": 4,
  "nbformat_minor": 0,
  "metadata": {
    "colab": {
      "name": "Untitled2.ipynb",
      "provenance": [],
      "toc_visible": true,
      "authorship_tag": "ABX9TyPoJ/7XgFpzjxHRx4Bji/n5",
      "include_colab_link": true
    },
    "kernelspec": {
      "name": "python3",
      "display_name": "Python 3"
    }
  },
  "cells": [
    {
      "cell_type": "markdown",
      "metadata": {
        "id": "view-in-github",
        "colab_type": "text"
      },
      "source": [
        "<a href=\"https://colab.research.google.com/github/thelearningcurves/geophysics/blob/master/Nmo%20with%20cubicSpline%20Interploation.ipynb\" target=\"_parent\"><img src=\"https://colab.research.google.com/assets/colab-badge.svg\" alt=\"Open In Colab\"/></a>"
      ]
    },
    {
      "cell_type": "code",
      "metadata": {
        "id": "E9VtYMf9ybha"
      },
      "source": [
        "import numpy as np\n",
        "import matplotlib.pyplot as plt\n",
        "from scipy.interpolate import CubicSpline"
      ],
      "execution_count": 2,
      "outputs": []
    },
    {
      "cell_type": "code",
      "metadata": {
        "id": "DWZ9RZqJyrTb"
      },
      "source": [
        "def reflection_time(t0 , vnmo,x):\n",
        "  \"\"\" this function will take in the zero offset time t0, the offset distance x and the nmo velocity vnmo \n",
        "      and return the actual travel time that is recorded in the non-zero offset settings.\n",
        "      Arguments:\n",
        "      t0 = the zero offset time when x=0. This can be picked from the CMP gather plot as the point on time axis \n",
        "            when the hyperbola is at it's origin stage and not yet has started bending.\n",
        "      x = different offset distances taken for the survey\n",
        "      vnmo = it is the correction velocity we pick with utmost care and plug for making the hyperbola more or less flat. \"\"\"\n",
        "\n",
        "  t = np.sqrt(t0**2 + x**2/vnmo**2)\n",
        "  return t "
      ],
      "execution_count": 4,
      "outputs": []
    },
    {
      "cell_type": "code",
      "metadata": {
        "id": "ENAupcuXyrgs"
      },
      "source": [
        "def sample_trace(trace,time,dt):\n",
        "  before = int(np.floor(time/dt))\n",
        "  N = trace.size\n",
        "  samples = np.arange(before-1, before+3)\n",
        "  if any (samples<0) or any (samples >= N):\n",
        "    amplitude = None\n",
        "  else:\n",
        "    times = dt * samples\n",
        "    amps = trace[samples]\n",
        "    interpolator = CubicSpline(times,amps)\n",
        "    amplitude = interpolator(time)\n",
        "    return amplitude\n"
      ],
      "execution_count": 13,
      "outputs": []
    },
    {
      "cell_type": "code",
      "metadata": {
        "id": "ngoBf3x5yrlv"
      },
      "source": [
        "def nmo_correction (cmp,dt,offsets,velocities):\n",
        "  nmo = np.zeros_like(cmp)\n",
        "  nsamples = cmp.shape[0]\n",
        "  times = np.arange(0,nsamples*dt,dt)\n",
        "  for i ,t0 in enumerate(times):\n",
        "    for j,x in enumerate(offsets):\n",
        "      t = reflection_time(t0 ,velocities[i],x )\n",
        "      amplitude = sample_trace(cmp[:,j],t,dt)\n",
        "      if amplitude is None:\n",
        "        nmo[i,j] = amplitude\n",
        "  return nmo"
      ],
      "execution_count": 6,
      "outputs": []
    },
    {
      "cell_type": "code",
      "metadata": {
        "id": "hLj8e5H3yrkl",
        "outputId": "4b9591fd-a2ac-4292-d8cb-3b991254cc84",
        "colab": {
          "base_uri": "https://localhost:8080/",
          "height": 67
        }
      },
      "source": [
        "#loading file  \n",
        "data = np.load('/content/synthetic_cmp.npz')\n",
        "\n",
        "dt = data['dt']\n",
        "offsets = data['offsets']\n",
        "CMP = data['CMP']\n",
        "nsamples = CMP.shape[0]\n",
        "noffsets = CMP.shape[1]\n",
        "print('number of samples is {}'.format(nsamples))\n",
        "print('number of offsets are  {}'.format(noffsets))\n",
        "print(dt)\n",
        "\n"
      ],
      "execution_count": 19,
      "outputs": [
        {
          "output_type": "stream",
          "text": [
            "number of samples is 1200\n",
            "number of offsets are  14\n",
            "0.00045678391959799\n"
          ],
          "name": "stdout"
        }
      ]
    },
    {
      "cell_type": "code",
      "metadata": {
        "id": "eYuIbZiXyrfn",
        "outputId": "0a181b16-d473-4af3-95eb-672d995c5c5d",
        "colab": {
          "base_uri": "https://localhost:8080/",
          "height": 369
        }
      },
      "source": [
        "fig = plt.figure(figsize=(6, 5))\n",
        "ax = plt.subplot(111)\n",
        "ax.set_title('Synthetic CMP')\n",
        "ax.set_xlabel('trace number')\n",
        "ax.set_ylabel('time (s)')\n",
        "cutoff = 0.5\n",
        "ax.imshow(CMP, extent=[0.5, noffsets+1, dt*nsamples, 0], \n",
        "          aspect=30, cmap='Greys', vmin=-cutoff, vmax=cutoff,\n",
        "          interpolation='none' )\n",
        "trace_numbers = list(range(1, noffsets + 1))\n",
        "ax.set_xticks(trace_numbers)\n",
        "fig.tight_layout()"
      ],
      "execution_count": 9,
      "outputs": [
        {
          "output_type": "display_data",
          "data": {
            "image/png": "[encoded data removed]",
            "text/plain": [
              "<Figure size 432x360 with 1 Axes>"
            ]
          },
          "metadata": {
            "tags": [],
            "needs_background": "light"
          }
        }
      ]
    },
    {
      "cell_type": "code",
      "metadata": {
        "id": "oYLeTzfXEIlW",
        "outputId": "f96fbf91-67e6-4f52-c0de-97e6c989e9fa",
        "colab": {
          "base_uri": "https://localhost:8080/",
          "height": 358
        }
      },
      "source": [
        "reflect_times = reflection_time(t0=0.2, x=offsets, vnmo=4000)\n",
        "\n",
        "fig = plt.figure(figsize=(6, 5))\n",
        "ax = plt.subplot(111)\n",
        "ax.set_xlabel('trace number')\n",
        "ax.set_ylabel('time (s)')\n",
        "cutoff = 0.1\n",
        "ax.imshow(CMP, extent=[0.5, noffsets + 0.5, dt*nsamples, 0], \n",
        "          aspect=20, cmap='Greys', vmin=-cutoff, vmax=cutoff, \n",
        "          interpolation='none')\n",
        "trace_numbers = list(range(1, noffsets + 1))\n",
        "plt.plot( trace_numbers, reflect_times, '-r', linewidth=3)\n",
        "ax.set_xticks(trace_numbers)\n",
        "ax.set_ylim(nsamples*dt, 0)\n",
        "ax.set_xlim(0.5, noffsets + 0.5)\n",
        "fig.tight_layout()"
      ],
      "execution_count": 10,
      "outputs": [
        {
          "output_type": "display_data",
          "data": {
            "image/png": "[encoded data removed]",
            "text/plain": [
              "<Figure size 432x360 with 1 Axes>"
            ]
          },
          "metadata": {
            "tags": [],
            "needs_background": "light"
          }
        }
      ]
    },
    {
      "cell_type": "code",
      "metadata": {
        "id": "TAdanSiCEIxG",
        "outputId": "1f3d44ad-7685-4338-9fa2-e5444a70a50c",
        "colab": {
          "base_uri": "https://localhost:8080/",
          "height": 50
        }
      },
      "source": [
        "times = np.arange(nsamples)*dt\n",
        "v1, t1 = 3800, 0.22\n",
        "v2, t2 = 4500, 0.46\n",
        "# equation for a straight line between two points.\n",
        "v_nmo = v1 + ((v2 - v1)/(t2 - t1))*(times - t1)\n",
        "print(v_nmo)"
      ],
      "execution_count": 32,
      "outputs": [
        {
          "output_type": "stream",
          "text": [
            "[3158.33333333 3159.66561977 3160.9979062  ... 4753.08019263 4754.41247906\n",
            " 4755.74476549]\n"
          ],
          "name": "stdout"
        }
      ]
    },
    {
      "cell_type": "code",
      "metadata": {
        "id": "USAN16JIGuxh"
      },
      "source": [
        "nmo =nmo_correction(CMP,dt,offsets,v_nmo)"
      ],
      "execution_count": 15,
      "outputs": []
    },
    {
      "cell_type": "code",
      "metadata": {
        "id": "HOiRd5O_Sj7R",
        "outputId": "d545cff3-842d-4e60-b9d5-5e80d78c497c",
        "colab": {
          "base_uri": "https://localhost:8080/",
          "height": 34
        }
      },
      "source": [
        "nsamples =CMP.shape[0]\n",
        "dt = data['dt']\n",
        "\n",
        "times = np.arange(0,nsamples*dt , dt)\n",
        "for i, t0  in enumerate(times):\n",
        "  for j ,x in enumerate(offsets):\n",
        "    t = reflection_time(t0,v_nmo,x)\n",
        " \n",
        "    "
      ],
      "execution_count": 62,
      "outputs": [
        {
          "output_type": "execute_result",
          "data": {
            "text/plain": [
              "0.5930181159114181"
            ]
          },
          "metadata": {
            "tags": []
          },
          "execution_count": 62
        }
      ]
    },
    {
      "cell_type": "code",
      "metadata": {
        "id": "HsGAKYNKGuwR",
        "outputId": "1e41646e-986f-48c7-a097-21acfcdd40af",
        "colab": {
          "base_uri": "https://localhost:8080/",
          "height": 50
        }
      },
      "source": [
        "trace = CMP[:,0]\n",
        "\n",
        "before = int(np.floor(0.4/dt))\n",
        "\n",
        "samples = np.arange(before-1,before+3)\n",
        "N = trace.size\n",
        "Times = dt*samples\n",
        "amp = trace[samples]\n",
        "print(amp)\n",
        "interpolator = CubicSpline(Times,amp)\n",
        "amplitude = interpolator(0.4)\n",
        "print(amplitude)"
      ],
      "execution_count": 75,
      "outputs": [
        {
          "output_type": "stream",
          "text": [
            "[0.0057906  0.0075699  0.00926951 0.01085384]\n",
            "0.008749207473685662\n"
          ],
          "name": "stdout"
        }
      ]
    }
  ]
}